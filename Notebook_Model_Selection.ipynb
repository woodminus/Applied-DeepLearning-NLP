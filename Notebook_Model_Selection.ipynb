{
  "cells": [
    {
      "cell_type": "markdown",
      "metadata": {
        "id": "view-in-github",
        "colab_type": "text"
      },
      "source": [
        "<a href=\"https://colab.research.google.com/github/SimonHegelich/ADL-NLP/blob/master/Notebook_Model_Selection.ipynb\" target=\"_parent\"><img src=\"https://colab.research.google.com/assets/colab-badge.svg\" alt=\"Open In Colab\"/></a>"
      ]
    },
    {
      "cell_type": "markdown",
      "id": "fa01e007",
      "metadata": {
        "id": "fa01e007"
      },
      "source": [
        "# Programmierübung: <font color='darkorange'> Model Selection </font>\n",
        "\n",
        "##### <font color='darkorange'> Datenanalyse, Sommersemester 2022, Professur für Political Data Science </font>"
      ]
    },
    {
      "cell_type": "markdown",
      "id": "65725295",
      "metadata": {
        "id": "65725295"
      },
      "source": [
        "## This Week: Bootstrapping\n",
        "Dieses Woche wollen wir uns mit dem Bootstrap näher befassen. Den Datensatz bauen wir einfach schnell selbst. "
      ]
    },
    {
      "cell_type": "code",
      "execution_count": 1,
      "id": "febbcfb2",
      "metadata": {
        "colab": {
          "base_uri": "https://localhost:8080/",
          "height": 639
        },
        "id": "febbcfb2",
        "outputId": "509b9403-8d72-4934-af33-b2300fe3b044"
      },
      "outputs": [
        {
          "output_type": "stream",
          "name": "stdout",
          "text": [
            "      [,1] [,2]\n",
            " [1,]    4  1.0\n",
            " [2,]    6  4.0\n",
            " [3,]    1  0.5\n",
            " [4,]   -4 -4.0\n",
            " [5,]   -2  1.0\n",
            " [6,]   10  3.5\n",
            " [7,]   -1  1.5\n",
            " [8,]    0 -2.5\n",
            " [9,]    8  6.0\n",
            "[10,]    5  3.5\n"
          ]
        },
        {
          "output_type": "display_data",
          "data": {
            "text/plain": [
              "Plot with title “Scatter-Plot X und Y”"
            ],
            "image/png": "iVBORw0KGgoAAAANSUhEUgAAA0gAAANICAIAAAByhViMAAAACXBIWXMAABJ0AAASdAHeZh94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\nQbEDAADQCIodAACA