{
  "cells": [
    {
      "cell_type": "markdown",
      "metadata": {
        "id": "view-in-github",
        "colab_type": "text"
      },
      "source": [
        "<a href=\"https://colab.research.google.com/github/SimonHegelich/ADL-NLP/blob/master/Notebook_Model_Selection.ipynb\" target=\"_parent\"><img src=\"https://colab.research.google.com/assets/colab-badge.svg\" alt=\"Open In Colab\"/></a>"
      ]
    },
    {
      "cell_type": "markdown",
      "id": "fa01e007",
      "metadata": {
        "id": "fa01e007"
      },
      "source": [
        "# Programmierübung: <font color='darkorange'> Model Selection </font>\n",
        "\n",
        "##### <font color='darkorange'> Datenanalyse, Sommersemester 2022, Professur für Political Data Science </font>"
      ]
