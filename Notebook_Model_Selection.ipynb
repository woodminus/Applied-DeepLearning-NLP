{
  "cells": [
    {
      "cell_type": "markdown",
      "metadata": {
        "id": "view-in-github",
        "colab_type": "text"
      },
      "source": [
        "<a href=\"https://colab.research.google.com/github/SimonHegelich/ADL-NLP/blob/master/Notebook_Model_Selection.ipynb\" target=\"_parent\"><img src=\"https://colab.research.google.com/assets/colab-badge.svg\" alt=\"Open In Colab\"/></a>"
      ]
    },
    {
      "cell_type": "markdown",
      "id": "fa01e007",
      "metadata": {
        "id": "fa01e007"
      },
      "source": [
        "# Programmierübung: <font color='darkorange'> Model Selection </font>\n",
        "\n",
        "##### <font color='darkorange'> Datenanalyse, Sommersemester 2022, Professur für Political Data Science </font>"
      ]
    },
    {
      "cell_type": "markdown",
      "id": "65725295",
      "metadata": {
        "id": "65725295"
      },
      "source": [
        "## This Week: Bootstrapping\n",
        "Dieses Woche wollen wir uns mit dem Bootstrap näher befassen. Den Datensatz bauen wir einfach schnell selbst. "
      ]
    },
    {
      "cell_type": "code",
      "execution_count": 1,
      "id": "febbcfb2",
      "metadata": {
        "colab": {
          "base_uri": "https://localhost:8080/",
          "height": 639
        },
        "id": "febbcfb2",
        "outputId": "509b9403-8d72-4934-af33-b2300fe3b044"
      },
      "outputs": [
        {
          "output_type": "stream",
          "name": "stdout",
          "text": [
            "      [,1] [,2]\n",
            " [1,]    4  1.0\n",
            " [2,]    6  4.0\n",
            " [3,]    1  0.5\n",
            " [4,]   -4 -4.0\n",
            " [5,]   -2  1.0\n",
            " [6,]   10  3.5\n",
            " [7,]   -1  1.5\n",
            " [8,]    0 -2.5\n",
            " [9,]    8  6.0\n",
            "[10,]    5  3.5\n"
          ]
        },
        {
          "output_type": "display_data",
          "data": {
            "text/plain": [
              "Plot with title “Scatter-Plot X und Y”"
            ],
    