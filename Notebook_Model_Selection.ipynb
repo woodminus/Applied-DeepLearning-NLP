{
  "cells": [
    {
      "cell_type": "markdown",
      "metadata": {
        "id": "view-in-github",
        "colab_type": "text"
      },
      "source": [
        "<a href=\"https://colab.research.google.com/github/SimonHegelich/ADL-NLP/blob/master/Notebook_Model_Selection.ipynb\" target=\"_parent\"><img src=\"https://colab.research.google.com/assets/colab-badge.svg\" alt=\"Open In Colab\"/></a>"
      ]
    },
    {
      "cell_type": "markdown",
      "id": "fa01e007",
      "metadata": {
        "id": "fa01e007"
      },
      "source": [
        "# Programmierübung: <font color='darkorange'> Model Selection </font>\n",
        "\n",
        "##### <font color='darkorange'> Datenanalyse, Sommersemester 2022, Professur für Political Data Science </font>"
      ]
    },
    {
      "cell_type": "markdown",
      "id": "65725295",
      "metadata": {
        "id": "65725295"
      },
      "source": [
        "## This Week: Bootstrapping\n",
        "Dieses Woche wollen wir uns mit dem Bootstrap näher befassen. Den Datensatz bauen wir einfach schnell selbst. "
      ]
    },
    {
      "cell_type": "code",
      "execution_count": 1,
      "id": "febbcfb2",
      "metadata": {
        "colab": {
          "base_uri": "https://localhost:8080/",
          "height": 639
        },
        "id": "febbcfb2",
        "outputId": "509b9403-8d72-4934-af33-b2300fe3b044"
      },
      "outputs": [
        {
          "output_type": "stream",
          "name": "stdout",
          "text": [
            "      [,1] [,2]\n",
            " [1,]    4  1.0\n",
            " [2,]    6  4.0\n",
            " [3,]    1  0.5\n",
            " [4,]   -4 -4.0\n",
            " [5,]   -2  1.0\n",
            " [6,]   10  3.5\n",
            " [7,]   -1  1.5\n",
            " [8,]    0 -2.5\n",
            " [9,]    8  6.0\n",
            "[10,]    5  3.5\n"
          ]
        },
        {
          "output_type": "display_data",
          "data": {
            "text/plain": [
              "Plot with title “Scatter-Plot X und Y”"
            ],
            "image/png": "iVBORw0KGgoAAAANSUhEUgAAA0gAAANICAIAAAByhViMAAAACXBIWXMAABJ0AAASdAHeZh94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\nt/br18/wxk0sd