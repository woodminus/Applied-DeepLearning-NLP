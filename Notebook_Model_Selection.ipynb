{
  "cells": [
    {
      "cell_type": "markdown",
      "metadata": {
        "id": "view-in-github",
        "colab_type": "text"
      },
      "source": [
        "<a href=\"https://colab.research.google.com/github/SimonHegelich/ADL-NLP/blob/master/Notebook_Model_Selection.ipynb\" target=\"_parent\"><img src=\"https://colab.research.google.com/assets/colab-badge.svg\" alt=\"Open In Colab\"/></a>"
      ]
    },
    {
      "cell_type": "markdown",
      "id": "fa01e007",
      "metadata": {
        "id": "fa01e007"
      },
      "source": [
        "# Programmierübung: <font color='darkorange'> Model Selection </font>\n",
        "\n",
        "##### <font color='darkorange'> Datenanalyse, Sommersemester 2022, Professur für Political Data Science </font>"
      ]
    },
    {
      "cell_type": "markdown",
      "id": "65725295",
      "metadata": {
        "id": "65725295"
      },
      "source": [
        "## This Week: Bootstrapping\n",
        "Dieses Woche wollen wir uns mit dem Bootstrap näher befassen. Den Datensatz bauen wir einfach schnell selbst. "
      ]
    },
    {
      "cell_type": "code",
      "execution_count": 1,
      "id": "febbcfb2",
      "metadata": {
        "colab": {
          "base_uri": "https://localhost:8080/",
          "height": 639
        },
        "id": "febbcfb2",
        "outputId": "509b9403-8d72-4934-af33-b2300fe3b044"
      },
      "outputs": [
        {
          "output_type": "stream",
          "name": "stdout",
          "text": [
            "      [,1] [,2]\n",
            " [1,]    4  1.0\n",
            " [2,]    6  4.0\n",
            " [3,]    1  0.5\n",
            " [4,]   -4 -4.0\n",
            " [5,]   -2  1.0\n",
            " [6,]   10  3.5\n",
            " [7,]   -1  1.5\n",
            " [8,]    0 -2.5\n",
            " [9,]    8  6.0\n",
            "[10,]    5  3.5\n"
          ]
        },
        {
          "output_type": "display_data",
          "data": {
            "text/plain": [
              "Plot with title “Scatter-Plot X und Y”"
            ],
            "image/png": "iVBORw0KGgoAAAANSUhEUgAAA0gAAANICAIAAAByhViMAAAACXBIWXMAABJ0AAASdAHeZh94\nAAAgAElEQVR4nOzde0BUdf7/8fdwv6ulcpWSIAW1VVF0Q9Q0RWE1c13RTNdM84K5WVphiqlp\n26+blXjZvJSW4aW8pKGZrrfSBTJcRa0UMTFRVOSmiMj8/jj7nWVh4AzIzMDx+fjr8DlnDq9h\np3rtOfP5HJ1erxcAAAA0fDbWDgAAAIC6QbEDAADQCIodAACARlDsAAAANIJiBwAAoBEUOwAA\nAI2g2AEAAGgExQ4AAEAjKHYAAAAaQbEDAADQCIodAACARlDsAAAANIJiBwAAoBEUOwAAAI2g\n2AEAAGgExQ4AAEAjKHYAAAAaQbEDAADQCIodAACARlDsAAAANIJiBwAAoBEUOwAAAI2g2AEA\nAGgExQ4AAEAjKHYAAAAaQbEDAADQCIodAACARlDsAAAANIJiBwAAoBEUOwAAAI2g2AEAAGgE\nxQ4AAEAjKHYAAAAaQbEDAADQCIodAACARlDsAAAANIJiBwAAoBEUOwAAAI2g2AEAAGgExQ4A\n/mvjxo06nU6n0zk5OVk7S/21efNm5a9kZ2dn7SwA/gfFDtCy3Nzct99++/HHH/fx8XF0dHRw\ncLj//vvDwsJefvnlc+fOWTudJSxfvlxnjLOz8wMPPDB06NBvv/3WWtmuXr3q6emp5BkxYkTl\nA5555hllb9OmTa9evWr5hHfp66+/NvzBt27dWvmAnTt3Gg7YuHGj5RMCGqQHoFH79u27//77\nq/pn38nJafPmzeb77dnZ2ba2tiJy8uRJU8bN5OOPP1b91+CYMWPKysqU4zds2KAMOjo61vqX\nmv4e161bZ4ixe/fu8rsOHjyo0+mUXatWrap1GHPYtGmTEszW1rb6I/v3768c2bp169u3b5ff\ndefOnXbt2il7H3vsMXPmBe4hXLEDtCk3N3fw4MHKZR4nJ6ennnpqzpw5cXFx/fv3t7GxEZHi\n4uKRI0fm5OSYKcD69evv3Llj+rgFREZGRkdHR0dH9+/f/5FHHlH+DiKycuXK999/vw5/kenv\ncejQoYMGDVK2Y2NjS0pKlO3S0tKJEyfq9XoR6d69++jRo+swniUtXLjQ3t5eRE6dOlWhZK9c\nufLYsWMiYmdn9+GHH1onH6A91m6WAMxi5cqVyj/jdnZ2R48eLb/LcLlFRN555x0zBQ