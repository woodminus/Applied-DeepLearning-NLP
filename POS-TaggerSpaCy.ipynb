{
 "cells": [
  {
   "cell_type": "markdown",
   "metadata": {},
   "source": [
    "# Tagging"
   ]
  },
  {
   "cell_type": "markdown",
   "metadata": {},
   "source": [
    "## Part of Speech Tagging POS"
   ]
  },
  {
   "cell_type": "code",
   "execution_count": 1,
   "metadata": {},
   "outputs": [
    {
     "name": "stdout",
     "output_type": "stream",
     "text": [
      "[('Artificial', 'ADJ'), ('intelligence', 'NOUN'), (',', '.'), ('sometimes', 'ADV'), ('called', 'VERB'), ('machine', 'NOUN'), ('intelligence', 'NOUN'), (',', '.'), ('is', 'VERB'), ('intelligence', 'NOUN'), ('demonstrated', 'VERB'), ('by', 'ADP'), ('machines', 'NOUN'), (',', '.'), ('in', 'ADP'), ('contrast', 'NOUN'), ('to', 'PRT'), ('the', 'DET'), ('natural', 'ADJ'), ('intelligence', 'NOUN'), ('displayed', 'VERB'), ('by', 'ADP'), ('humans', 'NOUN'), ('and', 'CONJ'), ('other', 'ADJ'), ('animals', 'NOUN'), ('.', '.')]\n"
     ]
    }
   ],
   "source": [
    "import nltk\n",
    "sentence = \"Artificial intelligence, sometimes called machine intelligence, is intelligence demonstrated by machines, in contrast to the natural intelligence displayed by humans and other animals.\"\n",
    "tokens = nltk.word_tokenize(sentence)\n",
    "tagged_