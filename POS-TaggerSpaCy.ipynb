{
 "cells": [
  {
   "cell_type": "markdown",
   "metadata": {},
   "source": [
    "# Tagging"
   ]
  },
  {
   "cell_type": "markdown",
   "metadata": {},
   "source": [
    "## Part of Speech Tagging POS"
   ]
  },
  {
   "cell_type": "code",
   "execution_count": 1,
   "metadata": {},
   "outputs": [
    {
     "name": "stdout",
     "output_type": "stream",
     "text": [
      "[('Artificial', 'ADJ'), ('intelligence', 'NOUN'), (',', '.'), ('sometimes', 'ADV'), ('called', 'VERB'), ('machine', 'NOUN'), ('intelligence', 'NOUN'), (',', '.'), ('is', 'VERB'), ('intelligence', 'NOUN'), ('demonstrated', 'VERB'), ('by', 'ADP'), ('machines', 'NOUN'), (',', '.'), ('in', 'ADP'), ('contrast', 'NOUN'), ('to', 'PRT'), ('the', 'DET'), ('natural', 'ADJ'), ('intelligence', 'NOUN'), ('displayed', 'VERB'), ('by', 'ADP'), ('humans', 'NOUN'), ('and', 'CONJ'), ('other', 'ADJ'), ('animals', 'NOUN'), ('.', '.')]\n"
     ]
    }
   ],
   "source": [
    "import nltk\n",
    "sentence = \"Artificial intelligence, sometimes called machine intelligence, is intelligence demonstrated by machines, in contrast to the natural intelligence displayed by humans and other animals.\"\n",
    "tokens = nltk.word_tokenize(sentence)\n",
    "tagged_sent = nltk.pos_tag(tokens, tagset='universal')\n",
    "print(tagged_sent)"
   ]
  },
  {
   "cell_type": "code",
   "execution_count": 2,
   "metadata": {},
   "outputs": [
    {
     "name": "stdout",
     "output_type": "stream",
     "text": [
      "Artificial ADJ amod\n",
      "intelligence NOUN nsubj\n",
      ", PUNCT punct\n",
      "sometimes ADV advmod\n",
      "called VERB acl\n",
      "machine NOUN compound\n",
      "intelligence NOUN oprd\n",
      ", PUNCT punct\n",
      "is VERB ROOT\n",
      "intelligence NOUN attr\n",
      "demonstrated VERB acl\n",
      "by ADP agent\n",
      "machines NOUN pobj\n",
      ", PUNCT punct\n",
      "in ADP prep\n",
      "contrast NOUN pobj\n",
      "to ADP prep\n",
      "the DET det\n",
      "natural ADJ amod\n",
      "intelligence NOUN pobj\n",
      "displayed VERB acl\n",
      "by ADP agent\n",
      "humans NOUN pobj\n",
      "and CCONJ cc\n",
      "other ADJ amod\n",
      "animals NOUN conj\n",
      ". PUNCT punct\n"
     ]
    }
   ],
   "source": [
    "import spacy\n",
    "\n",
    "nlp = spacy.load(\"en_core_web_sm\")\n",
    "doc = nlp(sentence)\n",
    "for token in doc:\n",
    "    print(token.text, token.pos_, token.dep_)"
   ]
  },
  {
   "cell_type": "code",
   "execution_count": 3,
   "metadata": {},
   "outputs": [
    {
     "name": "stdout",
     "output_type": "stream",
     "text": [
      "Artificial artificial ADJ JJ amod Xxxxx True False\n",
      "intelligence intelligence NOUN NN nsubj xxxx True False\n",
      ", , PUNCT , punct , False False\n",
      "sometimes sometimes ADV RB advmod xxxx True True\n",
      "called call VERB VBN acl xxxx True False\n",
      "machine machine NOUN NN compound xxxx True False\n",
      "intelligence intelligence NOUN NN oprd xxxx True False\n",
      ", , PUNCT , punct , False False\n",
      "is be VERB VBZ ROOT xx True True\n",
      "intelligence intelligence NOUN NN attr xxxx True False\n",
      "demonstrated demonstrate VERB VBN acl xxxx True False\n",
      "by by ADP IN agent xx True True\n",
      "machines machine NOUN NNS pobj xxxx True False\n",
      ", , PUNCT , punct , False False\n",
      "in in ADP IN prep xx True True\n",
      "contrast contrast NOUN NN pobj xxxx True False\n",
      "to to ADP IN prep xx True True\n",
      "the the DET DT det xxx True True\n",
      "natural natural ADJ JJ amod xxxx True False\n",
      "intelligence intelligence NOUN NN pobj xxxx True False\n",
      "displayed display VERB VBN acl xxxx True False\n",
      "by by ADP IN agent xx True True\n",
      "humans human NOUN NNS pobj xxxx True False\n",
      "and and CCONJ CC cc xxx True True\n",
      "other other ADJ JJ amod xxxx True True\n",
      "animals animal NOUN NNS conj xxxx True False\n",
      ". . PUNCT . punct . False False\n"
     ]
    }
   ],
   "source": [
    "for token in doc:\n",
    "    print(token.text, token.lemma_, token.pos_, token.tag_, token.dep_,\n",
    "            token.shape_, token.is_alpha, token.is_stop)"
   ]
  },
  {
   "cell_type": "code",
   "execution_count": 5,
   "metadata": {},
   "outputs": [
    {
     "data": {
      "text/html": [
       "<svg xmlns=\"http://www.w3.org/2000/svg\" xmlns:xlink=\"http://www.w3.org/1999/xlink\" xml:lang=\"en\" id=\"d896dcafc6a447b78d1d04cd702b4f88-0\" class=\"displacy\" width=\"4075\" height=\"487.0\" direction=\"ltr\" style=\"max-width: none; height: 487.0px; color: #000000; background: #ffffff; font-family: Arial; direction: ltr\">\n",
       "<text class=\"displacy-token\" fill=\"currentColor\" text-anchor=\"middle\" y=\"397.0\">\n",
       "    <tspan class=\"displacy-word\" fill=\"currentColor\" x=\"50\">Artificial</tspan>\n",
       "    <tspan class=\"displacy-tag\" dy=\"2em\" fill=\"currentColor\" x=\"50\">ADJ</tspan>\n",
       "</text>\n",
       "\n",
       "<text class=\"displacy-token\" fill=\"currentColor\" text-anchor=\"middle\" y=\"397.0\">\n",
       "    <tspan class=\"displacy-word\" fill=\"currentColor\" x=\"225\">intelligence,</tspan>\n",
       "    <tspan class=\"displacy-tag\" dy=\"2em\" fill=\"currentColor\" x=\"225\">NOUN</tspan>\n",
       "</text>\n",
       "\n",
       "<text class=\"displacy-token\" fill=\"currentColor\" text-anchor=\"middle\" y=\"397.0\">\n",
       "    <tspan class=\"displacy-word\" fill=\"currentColor\" x=\"400\">sometimes</tspan>\n",
       "    <tspan class=\"displacy-tag\" dy=\"2em\" fill=\"currentColor\" x=\"400\">ADV</tspan>\n",
       "</text>\n",
       "\n",
       "<text class=\"displacy-token\" fill=\"currentColor\" text-anchor=\"middle\" y=\"397.0\">\n",
       "    <tspan class=\"displacy-word\" fill=\"currentColor\" x=\"575\">called</tspan>\n",
       "    <tspan class=\"displacy-tag\" dy=\"2em\" fill=\"currentColor\" x=\"575\">VERB</tspan>\n",
       "</text>\n",
       "\n",
       "<text class=\"displacy-token\" fill=\"currentColor\" text-anchor=\"middle\" y=\"397.0\">\n",
       "    <tspan class=\"displacy-word\" fill=\"currentColor\" x=\"750\">machine</tspan>\n",
       "    <tspan class=\"displacy-tag\" dy=\"2em\" fill=\"currentColor\" x=\"750\">NOUN</tspan>\n",
       "</text>\n",
       "\n",
       "<text class=\"displacy-token\" fill=\"currentColor\" text-anchor=\"middle\" y=\"397.0\">\n",
       "    <tspan class=\"displacy-word\" fill=\"currentColor\" x=\"925\">intelligence,</tspan>\n",
       "    <tspan class=\"displacy-tag\" dy=\"2em\" fill=\"currentColor\" x=\"925\">NOUN</tspan>\n",
       "</text>\n",
       "\n",
       "<text class=\"displacy-token\" fill=\"currentColor\" text-anchor=\"middle\" y=\"397.0\">\n",
       "    <tspan class=\"displacy-word\" fill=\"currentColor\" x=\"1100\">is</tspan>\n",
       "    <tspan class=\"displacy-tag\" dy=\"2em\" fill=\"currentColor\" x=\"1100\">VERB</tspan>\n",
       "</text>\n",
       "\n",
       "<text class=\"displacy-token\" fill=\"currentColor\" text-anchor=\"middle\" y=\"397.0\">\n",
       "    <tspan class=\"displacy-word\" fill=\"currentColor\" x=\"1275\">intelligence</tspan>\n",
       "    <tspan class=\"displacy-tag\" dy=\"2em\" fill=\"currentColor\" x=\"1275\">NOUN</tspan>\n",
       "</text>\n",
       "\n",
       "<text class=\"displacy-token\" fill=\"currentColor\" text-anchor=\"middle\" y=\"397.0\">\n",
       "    <tspan class=\"displacy-word\" fill=\"currentColor\" x=\"1450\">demonstrated</tspan>\n",
       "    <tspan class=\"displacy-tag\" dy=\"2em\" fill=\"currentColor\" x=\"1450\">VERB</tspan>\n",
       "</text>\n",
       "\n",
     