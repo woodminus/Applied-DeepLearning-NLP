{
 "cells": [
  {
   "cell_type": "markdown",
   "metadata": {},
   "source": [
    "# Tagging"
   ]
  },
  {
   "cell_type": "markdown",
   "metadata": {},
   "source": [
    "## Part of Speech Tagging POS"
   ]
  },
  {
   "cell_type": "code",
   "execution_count": 1,
   "metadata": {},
   "outputs": [
    {
     "name": "stdout",
     "output_type": "stream",
     "text": [
      "[('Artificial', 'ADJ'), ('intelligence', 'NOUN'), (',', '.'), ('sometimes', 'ADV'), ('called', 'VERB'), ('machine', 'NOUN'), ('intelligence', 'NOUN'), (',', '.'), ('is', 'VERB'), ('intelligence', 'NOUN'), ('demonstrated', 'VERB'), ('by', 'ADP'), ('machines', 'NOUN'), (',', '.'), ('in', 'ADP'), ('contrast', 'NOUN'), ('to', 'PRT'), ('the', 'DET'), ('natural', 'ADJ'), ('intelligence', 'NOUN'), ('displayed', 'VERB'), ('by', 'ADP'), ('humans', 'NOUN'), ('and', 'CONJ'), ('other', 'ADJ'), ('animals', 'NOUN'), ('.', '.')]\n"
     ]
    }
   ],
   "source": [
    "import nltk\n",
    "sentence = \"Artificial intelligence, sometimes called machine intelligence, is intelligence demonstrated by machines, in contrast to the natural intelligence displayed by humans and other animals.\"\n",
    "tokens = nltk.word_tokenize(sentence)\n",
    "tagged_sent = nltk.pos_tag(tokens, tagset='universal')\n",
    "print(tagged_sent)"
   ]
  },
  {
   "cell_type": "code",
   "execution_count": 2,
   "metadata": {},
   "outputs": [
    {
     "name": "stdout",
     "output_type": "stream",
     "text": [
      "Artificial ADJ amod\n",
      "intelligence NOUN nsubj\n",
      ", PUNCT punct\n",
      "sometimes ADV advmod\n",
      "called VERB acl\n",
      "machine NOUN compound\n",
      "intelligence NOUN oprd\n",
      ", PUNCT punct\n",
      "is VERB ROOT\n",
      "intelligence NOUN attr\n",
      "demonstrated VERB acl\n",
      "by ADP agent\n",
      "machines NOUN pobj\n",
      ", PUNCT punct\n",
      "in ADP prep\n",
      "contrast NOUN pobj\n",
      "to ADP prep\n",
      "the DET det\n",
      "natural ADJ amod\n",
      "intelligence NOUN pobj\n",
      "displayed VERB acl\n",
      "by ADP agent\n",
      "humans NOUN pobj\n",
      "and CCONJ cc\n",
      "other ADJ amod\n",
      "animals NOUN conj\n",
      ". PUNCT punct\n"
     ]
    }
   ],
   "source": [
    "import spacy\n",
    "\n",
    "nlp = spacy.load(\"en_core_web_sm\")\n",
    "doc = nlp(sentence)\n",
    "for token in doc:\n",
    "    print(token.text, token.pos_, token.dep_)"
   ]
  },
  {
   "cell_type": "code",
   "execution_count": 3,
  