
{
 "cells": [
  {
   "cell_type": "markdown",
   "metadata": {},
   "source": [
    "# Tagging"
   ]
  },
  {
   "cell_type": "markdown",
   "metadata": {},
   "source": [
    "## Part of Speech Tagging POS"
   ]
  },
  {
   "cell_type": "code",
   "execution_count": null,
   "metadata": {},
   "outputs": [
    {
     "name": "stdout",
     "output_type": "stream",
     "text": [
      "[('Artificial', u'ADJ'), ('intelligence', u'NOUN'), ('(', u'.'), ('AI', u'NOUN'), (')', u'.'), (',', u'.'), ('sometimes', u'ADV'), ('called', u'VERB'), ('machine', u'NOUN'), ('intelligence', u'NOUN'), (',', u'.'), ('is', u'VERB'), ('intelligence', u'NOUN'), ('demonstrated', u'VERB'), ('by', u'ADP'), ('machines', u'NOUN'), (',', u'.'), ('in', u'ADP'), ('contrast', u'NOUN'), ('to', u'PRT'), ('the', u'DET'), ('natural', u'ADJ'), ('intelligence', u'NOUN'), ('displayed', u'VERB'), ('by', u'ADP'), ('humans', u'NOUN'), ('and', u'CONJ'), ('other', u'ADJ'), ('animals', u'NOUN'), ('.', u'.')]\n"
     ]
    }
   ],
   "source": [
    "import nltk\n",
    "sentence = \"Artificial intelligence (AI), sometimes called machine intelligence, is intelligence demonstrated by machines, in contrast to the natural intelligence displayed by humans and other animals.\"\n",
    "tokens = nltk.word_tokenize(sentence)\n",
    "tagged_sent = nltk.pos_tag(tokens, tagset='universal')\n",
    "print(tagged_sent)"
   ]
  },
  {
   "cell_type": "code",
   "execution_count": 2,
   "metadata": {},
   "outputs": [
    {
     "name": "stdout",
     "output_type": "stream",
     "text": [
      "[(u'Artificial', u'JJ'), (u'intelligence', u'NN'), (u'(', u'('), (u'AI', u'NNP'), (u')', u')'), (u',', u','), (u'sometimes', u'RB'), (u'called', u'VBN'), (u'machine', u'NN'), (u'intelligence', u'NN'), (u',', u','), (u'is', u'VBZ'), (u'intelligence', u'NN'), (u'demonstrated', u'VBN'), (u'by', u'IN'), (u'machines', u'NNS'), (u',', u','), (u'in', u'IN'), (u'contrast', u'NN'), (u'to', u'TO'), (u'the', u'DT'), (u'natural', u'JJ'), (u'intelligence', u'NN'), (u'displayed', u'VBN'), (u'by', u'IN'), (u'humans', u'NNS'), (u'and', u'CC'), (u'other', u'JJ'), (u'animals', u'NNS'), (u'.', u'.')]\n"
     ]
    }
   ],
   "source": [
    "from pattern.en import tag\n",
    "tagged_sent2 = tag(sentence)\n",
    "print(tagged_sent2)"
   ]
  },
  {
   "cell_type": "markdown",
   "metadata": {},
   "source": [
    "## Shallow Parser"
   ]
  },
  {
   "cell_type": "code",
   "execution_count": 3,
   "metadata": {
    "scrolled": true
   },
   "outputs": [
    {
     "name": "stdout",
     "output_type": "stream",
     "text": [
      "[Sentence('Artificial/JJ/B-NP/O intelligence/NN/I-NP/O (/(/O/O AI/NNP/B-NP/O )/)/O/O ,/,/O/O sometimes/RB/B-VP/O called/VBN/I-VP/O machine/NN/B-NP/O intelligence/NN/I-NP/O ,/,/O/O is/VBZ/B-VP/O intelligence/NN/B-NP/O demonstrated/VBN/B-VP/O by/IN/B-PP/B-PNP machines/NNS/B-NP/I-PNP ,/,/O/O in/IN/B-PP/B-PNP contrast/NN/B-NP/I-PNP to/TO/O/O the/DT/B-NP/O natural/JJ/I-NP/O intelligence/NN/I-NP/O displayed/VBN/B-VP/O by/IN/B-PP/B-PNP humans/NNS/B-NP/I-PNP and/CC/I-NP/I-PNP other/JJ/I-NP/I-PNP animals/NNS/I-NP/I-PNP ././O/O')]\n"
     ]
    }
   ],
   "source": [
    "from pattern.en import parsetree\n",
    "tree = parsetree(sentence)\n",
    "print(tree)"
   ]
  },
  {
   "cell_type": "code",
   "execution_count": 4,
   "metadata": {},
   "outputs": [
    {
     "name": "stdout",
     "output_type": "stream",
     "text": [
      "[Chunk('Artificial intelligence/NP'), Chunk('AI/NP'), Chunk('sometimes called/VP'), Chunk('machine intelligence/NP'), Chunk('is/VP'), Chunk('intelligence/NP'), Chunk('demonstrated/VP'), Chunk('by/PP'), Chunk('machines/NP'), Chunk('in/PP'), Chunk('contrast/NP'), Chunk('the natural intelligence/NP'), Chunk('displayed/VP'), Chunk('by/PP'), Chunk('humans and other animals/NP')]\n"
     ]
    }
   ],
   "source": [
    "for sentence_tree in tree:\n",
    "    print sentence_tree.chunks"
   ]
  },
  {
   "cell_type": "code",
   "execution_count": 5,
   "metadata": {},
   "outputs": [
    {
     "name": "stdout",
     "output_type": "stream",
     "text": [
      "NP -> [(u'Artificial', u'JJ'), (u'intelligence', u'NN')]\n",
      "NP -> [(u'AI', u'NNP')]\n",
      "VP -> [(u'sometimes', u'RB'), (u'called', u'VBN')]\n",
      "NP -> [(u'machine', u'NN'), (u'intelligence', u'NN')]\n",
      "VP -> [(u'is', u'VBZ')]\n",
      "NP -> [(u'intelligence', u'NN')]\n",
      "VP -> [(u'demonstrated', u'VBN')]\n",
      "PP -> [(u'by', u'IN')]\n",
      "NP -> [(u'machines', u'NNS')]\n",
      "PP -> [(u'in', u'IN')]\n",
      "NP -> [(u'contrast', u'NN')]\n",
      "NP -> [(u'the', u'DT'), (u'natural', u'JJ'), (u'intelligence', u'NN')]\n",
      "VP -> [(u'displayed', u'VBN')]\n",
      "PP -> [(u'by', u'IN')]\n",
      "NP -> [(u'humans', u'NNS'), (u'and', u'CC'), (u'other', u'JJ'), (u'animals', u'NNS')]\n"
     ]
    }
   ],
   "source": [
    "for sentence_tree in tree:\n",
    "    for chunk in sentence_tree.chunks:\n",
    "        print chunk.type, '->', [(word.string, word.type) for word in chunk.words]"
   ]
  },
  {
   "cell_type": "code",
   "execution_count": 6,
   "metadata": {},
   "outputs": [],
   "source": [
    "from pattern.en import parsetree, Chunk\n",
    "from nltk.tree import Tree\n",
    "\n",
    "def create_sentence_tree(sentence, lemmatize=False):\n",
    "    sentence_tree = parsetree(sentence,\n",
    "                             relations=True,\n",
    "                             lemmata=lemmatize)\n",
    "    return sentence_tree[0]\n",
    "\n",
    "def get_sentence_tree_constituents(sentence_tree):\n",
    "    return sentence_tree.constituents()\n",
    "\n",
    "def process_sentence_tree(sentence_tree):\n",
    "    \n",
    "    tree_constituents = get_sentence_tree_constituents(sentence_tree)\n",
    "    processed_tree = [\n",
    "                        (item.type,\n",
    "                         [\n",
    "                             (w.string, w.type)\n",
    "                             for w in item.words\n",
    "                         ]\n",
    "                        )\n",
    "                        if type(item) == Chunk\n",
    "                        else ('-',\n",
    "                              [\n",
    "                                   (item.string, item.type)\n",
    "                              ]\n",
    "                             )\n",
    "                             for item in tree_constituents\n",
    "                    ]\n",
    "    \n",
    "    return processed_tree\n",
    "\n",
    "def print_sentence_tree(sentence_tree):\n",
    "    \n",
    "\n",
    "    processed_tree = process_sentence_tree(sentence_tree)\n",
    "    processed_tree = [\n",
    "                        Tree( item[0],\n",
    "                             [\n",
    "                                 Tree(x[1], [x[0]])\n",
    "                                 for x in item[1]\n",
    "                             ]\n",
    "                            )\n",
    "                            for item in processed_tree\n",
    "                     ]\n",
    "\n",
    "    tree = Tree('S', processed_tree )\n",
    "    print tree\n",
    "    \n",
    "def visualize_sentence_tree(sentence_tree):\n",
    "    \n",
    "    processed_tree = process_sentence_tree(sentence_tree)\n",
    "    processed_tree = [\n",
    "                        Tree( item[0],\n",
    "                             [\n",
    "                                 Tree(x[1], [x[0]])\n",
    "                                 for x in item[1]\n",
    "                             ]\n",
    "                            )\n",
    "                            for item in processed_tree\n",
    "                     ]\n",
    "    tree = Tree('S', processed_tree )\n",
    "    tree.draw()"
   ]
  },
  {
   "cell_type": "code",
   "execution_count": 7,
   "metadata": {},
   "outputs": [
    {
     "name": "stdout",
     "output_type": "stream",
     "text": [
      "Sentence('Artificial/JJ/B-NP/O/O intelligence/NN/I-NP/O/O (/(/O/O/O AI/NNP/B-NP/O/O )/)/O/O/O ,/,/O/O/O sometimes/RB/B-VP/O/VP-1 called/VBN/I-VP/O/VP-1 machine/NN/B-NP/O/NP-OBJ-1 intelligence/NN/I-NP/O/NP-OBJ-1 ,/,/O/O/O is/VBZ/B-VP/O/VP-2 intelligence/NN/B-NP/O/NP-OBJ-2*NP-SBJ-3 demonstrated/VBN/B-VP/O/VP-3 by/IN/B-PP/B-PNP/O machines/NNS/B-NP/I-PNP/O ,/,/O/O/O in/IN/B-PP/B-PNP/O contrast/NN/B-NP/I-PNP/O to/TO/O/O/O the/DT/B-NP/O/NP-SBJ-4 natural/JJ/I-NP/O/NP-SBJ-4 intelligence/NN/I-NP/O/NP-SBJ-4 displayed/VBN/B-VP/O/VP-4 by/IN/B-PP/B-PNP/O humans/NNS/B-NP/I-PNP/O and/CC/I-NP/I-PNP/O other/JJ/I-NP/I-PNP/O animals/NNS/I-NP/I-PNP/O ././O/O/O')\n"
     ]
    }
   ],
   "source": [
    "t = create_sentence_tree(sentence)\n",
    "print t"
   ]
  },
  {
   "cell_type": "code",
   "execution_count": 8,
   "metadata": {},
   "outputs": [
    {
     "data": {
      "text/plain": [
       "[(u'NP', [(u'Artificial', u'JJ'), (u'intelligence', u'NN')]),\n",
       " ('-', [(u'(', u'(')]),\n",
       " (u'NP', [(u'AI', u'NNP')]),\n",
       " ('-', [(u')', u')')]),\n",
       " ('-', [(u',', u',')]),\n",
       " (u'VP', [(u'sometimes', u'RB'), (u'called', u'VBN')]),\n",
       " (u'NP', [(u'machine', u'NN'), (u'intelligence', u'NN')]),\n",
       " ('-', [(u',', u',')]),\n",
       " (u'VP', [(u'is', u'VBZ')]),\n",
       " (u'NP', [(u'intelligence', u'NN')]),\n",
       " (u'VP', [(u'demonstrated', u'VBN')]),\n",
       " (u'PP', [(u'by', u'IN')]),\n",
       " (u'NP', [(u'machines', u'NNS')]),\n",
       " ('-', [(u',', u',')]),\n",
       " (u'PP', [(u'in', u'IN')]),\n",
       " (u'NP', [(u'contrast', u'NN')]),\n",
       " ('-', [(u'to', u'TO')]),\n",
       " (u'NP', [(u'the', u'DT'), (u'natural', u'JJ'), (u'intelligence', u'NN')]),\n",
       " (u'VP', [(u'displayed', u'VBN')]),\n",
       " (u'PP', [(u'by', u'IN')]),\n",
       " (u'NP',\n",
       "  [(u'humans', u'NNS'),\n",
       "   (u'and', u'CC'),\n",
       "   (u'other', u'JJ'),\n",
       "   (u'animals', u'NNS')]),\n",
       " ('-', [(u'.', u'.')])]"
      ]
     },
     "execution_count": 8,
     "metadata": {},
     "output_type": "execute_result"
    }
   ],
   "source": [
    "pt = process_sentence_tree(t)\n",
    "pt"
   ]
  },
  {
   "cell_type": "code",
   "execution_count": 9,
   "metadata": {},
   "outputs": [
    {
     "name": "stdout",
     "output_type": "stream",
     "text": [
      "(S\n",
      "  (NP (JJ Artificial) (NN intelligence))\n",
      "  (- (( ())\n",
      "  (NP (NNP AI))\n",
      "  (- () )))\n",
      "  (- (, ,))\n",
      "  (VP (RB sometimes) (VBN called))\n",
      "  (NP (NN machine) (NN intelligence))\n",
      "  (- (, ,))\n",
      "  (VP (VBZ is))\n",
      "  (NP (NN intelligence))\n",
      "  (VP (VBN demonstrated))\n",
      "  (PP (IN by))\n",
      "  (NP (NNS machines))\n",
      "  (- (, ,))\n",
      "  (PP (IN in))\n",
      "  (NP (NN contrast))\n",
      "  (- (TO to))\n",
      "  (NP (DT the) (JJ natural) (NN intelligence))\n",
      "  (VP (VBN displayed))\n",
      "  (PP (IN by))\n",
      "  (NP (NNS humans) (CC and) (JJ other) (NNS animals))\n",
      "  (- (. .)))\n"
     ]
    }
   ],
   "source": [
    "print_sentence_tree(t)"
   ]
  },
  {
   "cell_type": "code",
   "execution_count": 10,
   "metadata": {},
   "outputs": [],
   "source": [
    "#visualize_sentence_tree(t)"
   ]
  },
  {
   "cell_type": "code",
   "execution_count": 11,
   "metadata": {},
   "outputs": [],
   "source": [
    "from IPython.display import display\n",
    "def visualize_sentence_tree_inline(sentence_tree):\n",
    "    \n",
    "    processed_tree = process_sentence_tree(sentence_tree)\n",
    "    processed_tree = [\n",
    "                        Tree( item[0],\n",
    "                             [\n",
    "                                 Tree(x[1], [x[0]])\n",
    "                                 for x in item[1]\n",
    "                             ]\n",
    "                            )\n",
    "                            for item in processed_tree\n",
    "                     ]\n",
    "    tree = Tree('S', processed_tree )\n",
    "    display(tree)"
   ]
  },
  {
   "cell_type": "code",
   "execution_count": 14,
   "metadata": {},
   "outputs": [
    {
     "data": {
      "image/png": "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",
      "text/plain": [
       "Tree('S', [Tree('NP', [Tree('JJ', ['Artificial']), Tree('NN', ['intelligence'])]), Tree('-', [Tree('(', ['('])]), Tree('NP', [Tree('NNP', ['AI'])]), Tree('-', [Tree(')', [')'])]), Tree('-', [Tree(',', [','])]), Tree('VP', [Tree('RB', ['sometimes']), Tree('VBN', ['called'])]), Tree('NP', [Tree('NN', ['machine']), Tree('NN', ['intelligence'])]), Tree('-', [Tree(',', [','])]), Tree('VP', [Tree('VBZ', ['is'])]), Tree('NP', [Tree('NN', ['intelligence'])]), Tree('VP', [Tree('VBN', ['demonstrated'])]), Tree('PP', [Tree('IN', ['by'])]), Tree('NP', [Tree('NNS', ['machines'])]), Tree('-', [Tree(',', [','])]), Tree('PP', [Tree('IN', ['in'])]), Tree('NP', [Tree('NN', ['contrast'])]), Tree('-', [Tree('TO', ['to'])]), Tree('NP', [Tree('DT', ['the']), Tree('JJ', ['natural']), Tree('NN', ['intelligence'])]), Tree('VP', [Tree('VBN', ['displayed'])]), Tree('PP', [Tree('IN', ['by'])]), Tree('NP', [Tree('NNS', ['humans']), Tree('CC', ['and']), Tree('JJ', ['other']), Tree('NNS', ['animals'])]), Tree('-', [Tree('.', ['.'])])])"
      ]
     },
     "metadata": {},
     "output_type": "display_data"
    }
   ],
   "source": [
    "visualize_sentence_tree_inline(t)"
   ]
  },
  {
   "cell_type": "markdown",
   "metadata": {},
   "source": [
    "## Dependency Parser"
   ]
  },
  {
   "cell_type": "markdown",
   "metadata": {},
   "source": [
    "How do words depend on each other?"
   ]
  },
  {
   "cell_type": "code",
   "execution_count": 12,
   "metadata": {},
   "outputs": [],
   "source": [
    "import spacy\n",
    "parser = spacy.load('en')\n"
   ]
  },
  {
   "cell_type": "code",
   "execution_count": 13,
   "metadata": {},
   "outputs": [],
   "source": [
    "parsed_sent = parser(unicode(sentence))"
   ]
  },
  {
   "cell_type": "code",
   "execution_count": 14,
   "metadata": {
    "scrolled": true
   },
   "outputs": [
    {
     "name": "stdout",
     "output_type": "stream",
     "text": [
      "[]<---Artificial[amod]--->[]\n",
      "--------\n",
      "[u'Artificial']<---intelligence[nsubj]--->[u'AI', u',']\n",
      "--------\n",
      "[]<---([punct]--->[]\n",
      "--------\n",
      "[u'(']<---AI[appos]--->[u')']\n",
      "--------\n",
      "[]<---)[punct]--->[]\n",
      "--------\n",
      "[]<---,[punct]--->[]\n",
      "--------\n",
      "[]<---sometimes[advmod]--->[]\n",
      "--------\n",
      "[u'intelligence', u'sometimes']<---called[ccomp]--->[u'intelligence']\n",
      "--------\n",
      "[]<---machine[compound]--->[]\n",
      "--------\n",
      "[u'machine']<---intelligence[dobj]--->[]\n",
      "--------\n",
      "[]<---,[punct]--->[]\n",
      "--------\n",
      "[u'called', u',']<---is[ROOT]--->[u'intelligence', u'.']\n",
      "--------\n",
      "[]<---intelligence[nsubj]--->[u'demonstrated']\n",
      "--------\n",
      "[]<---demonstrated[acl]--->[u'by', u',', u'in']\n",
      "--------\n",
      "[]<---by[agent]--->[u'machines']\n",
      "--------\n",
      "[]<---machines[pobj]--->[]\n",
      "--------\n",
      "[]<---,[punct]--->[]\n",
      "--------\n",
      "[]<---in[prep]--->[u'contrast']\n",
      "--------\n",
      "[]<---contrast[pobj]--->[u'to']\n",
      "--------\n",
      "[]<---to[prep]--->[u'intelligence']\n",
      "--------\n",
      "[]<---the[det]--->[]\n",
      "--------\n",
      "[]<---natural[amod]--->[]\n",
      "--------\n",
      "[u'the', u'natural']<---intelligence[pobj]--->[u'displayed']\n",
      "--------\n",
      "[]<---displayed[acl]--->[u'by']\n",
      "--------\n",
      "[]<---by[agent]--->[u'humans']\n",
      "--------\n",
      "[]<---humans[pobj]--->[u'and', u'animals']\n",
      "--------\n",
      "[]<---and[cc]--->[]\n",
      "--------\n",
      "[]<---other[amod]--->[]\n",
      "--------\n",
      "[u'other']<---animals[conj]--->[]\n",
      "--------\n",
      "[]<---.[punct]--->[]\n",
      "--------\n"
     ]
    }
   ],
   "source": [
    "dependency_pattern = '{left}<---{word}[{w_type}]--->{right}\\n--------'\n",
    "for token in parsed_sent:\n",
    "    print dependency_pattern.format(word=token.orth_, \n",
    "                                  w_type=token.dep_,\n",
    "                                  left=[t.orth_ \n",
    "                                            for t \n",
    "                                            in token.lefts],\n",
    "                                  right=[t.orth_ \n",
    "                                             for t \n",
    "                                             in token.rights])"
   ]
  },
  {
   "cell_type": "code",
   "execution_count": 21,
   "metadata": {},
   "outputs": [],
   "source": [
    "sentence2 = \"Bayern Munich, or FC Bayern, is a German sports club based in Munich, Bavaria, Germany.\""
   ]
  },
  {
   "cell_type": "code",
   "execution_count": 22,
   "metadata": {},
   "outputs": [
    {
     "name": "stderr",
     "output_type": "stream",
     "text": [
      "/home/simon/.virtualenvs/r-tensorflow/lib/python2.7/site-packages/ipykernel_launcher.py:5: DeprecationWarning: The StanfordDependencyParser will be deprecated\n",
      "Please use \u001b[91mnltk.parse.corenlp.StanforCoreNLPDependencyParser\u001b[0m instead.\n",
      "  \"\"\"\n"
     ]
    },
    {
     "data": {
      "image/svg+xml": [
       "<?xml version=\"1.0\" encoding=\"UTF-8\" standalone=\"no\"?>\n",
       "<!DOCTYPE svg PUBLIC \"-//W3C//DTD SVG 1.1//EN\"\n",
       " \"http://www.w3.org/Graphics/SVG/1.1/DTD/svg11.dtd\">\n",
       "<!-- Generated by graphviz version 2.38.0 (20140413.2041)\n",
       " -->\n",
       "<!-- Title: G Pages: 1 -->\n",
       "<svg width=\"808pt\" height=\"740pt\"\n",
       " viewBox=\"0.00 0.00 808.00 740.00\" xmlns=\"http://www.w3.org/2000/svg\" xmlns:xlink=\"http://www.w3.org/1999/xlink\">\n",
       "<g id=\"graph0\" class=\"graph\" transform=\"scale(1 1) rotate(0) translate(4 736)\">\n",
       "<title>G</title>\n",
       "<polygon fill=\"white\" stroke=\"none\" points=\"-4,4 -4,-736 804,-736 804,4 -4,4\"/>\n",
       "<!-- 0 -->\n",
       "<g id=\"node1\" class=\"node\"><title>0</title>\n",
       "<text text-anchor=\"middle\" x=\"226\" y=\"-710.3\" font-family=\"Times,serif\" font-size=\"14.00\">0 (None)</text>\n",
       "</g>\n",
       "<!-- 13 -->\n",
       "<g id=\"node2\" class=\"node\"><title>13</title>\n",
       "<text text-anchor=\"middle\" x=\"226\" y=\"-623.3\" font-family=\"Times,serif\" font-size=\"14.00\">13 (intelligence)</text>\n",
       "</g>\n",
       "<!-- 0&#45;&gt;13 -->\n",
       "<g id=\"edge1\" class=\"edge\"><title>0&#45;&gt;13</title>\n",
       "<path fill=\"none\" stroke=\"black\" d=\"M226,-695.799C226,-684.163 226,-668.548 226,-655.237\"/>\n",
       "<polygon fill=\"black\" stroke=\"black\" points=\"229.5,-655.175 226,-645.175 222.5,-655.175 229.5,-655.175\"/>\n",
       "<text text-anchor=\"middle\" x=\"237\" y=\"-666.8\" font-family=\"Times,serif\" font-size=\"14.00\">root</text>\n",
       "</g>\n",
       "<!-- 2 -->\n",
       "<g id=\"node4\" class=\"node\"><title>2</title>\n",
       "<text text-anchor=\"middle\" x=\"131\" y=\"-536.3\" font-family=\"Times,serif\" font-size=\"14.00\">2 (intelligence)</text>\n",
       "</g>\n",
       "<!-- 13&#45;&gt;2 -->\n",
       "<g id=\"edge10\" class=\"edge\"><title>13&#45;&gt;2</title>\n",
       "<path fill=\"none\" stroke=\"black\" d=\"M206.775,-608.799C192.74,-596.241 173.526,-579.049 157.958,-565.12\"/>\n",
       "<polygon fill=\"black\" stroke=\"black\" points=\"159.982,-562.235 150.196,-558.175 155.315,-567.452 159.982,-562.235\"/>\n",
       "<text text-anchor=\"middle\" x=\"200\" y=\"-579.8\" font-family=\"Times,serif\" font-size=\"14.00\">nsubj</text>\n",
       "</g>\n",
       "<!-- 12 -->\n",
       "<g id=\"node10\" class=\"node\"><title>12</title>\n",
       "<text text-anchor=\"middle\" x=\"226\" y=\"-536.3\" font-family=\"Times,serif\" font-size=\"14.00\">12 (is)</text>\n",
       "</g>\n",
       "<!-- 13&#45;&gt;12 -->\n",
       "<g id=\"edge8\" class=\"edge\"><title>13&#45;&gt;12</title>\n",
       "<path fill=\"none\" stroke=\"black\" d=\"M226,-608.799C226,-597.163 226,-581.548 226,-568.237\"/>\n",
       "<polygon fill=\"black\" stroke=\"black\" points=\"229.5,-568.175 226,-558.175 222.5,-568.175 229.5,-568.175\"/>\n",
       "<text text-anchor=\"middle\" x=\"236\" y=\"-579.8\" font-family=\"Times,serif\" font-size=\"14.00\">cop</text>\n",
       "</g>\n",
       "<!-- 14 -->\n",
       "<g id=\"node11\" class=\"node\"><title>14</title>\n",
       "<text text-anchor=\"middle\" x=\"329\" y=\"-536.3\" font-family=\"Times,serif\" font-size=\"14.00\">14 (demonstrated)</text>\n",
       "</g>\n",
       "<!-- 13&#45;&gt;14 -->\n",
       "<g id=\"edge9\" class=\"edge\"><title>13&#45;&gt;14</title>\n",
       "<path fill=\"none\" stroke=\"black\" d=\"M246.844,-608.799C262.201,-596.126 283.276,-578.734 300.235,-564.738\"/>\n",
       "<polygon fill=\"black\" stroke=\"black\" points=\"302.702,-567.24 308.187,-558.175 298.247,-561.841 302.702,-567.24\"/>\n",
       "<text text-anchor=\"middle\" x=\"291\" y=\"-579.8\" font-family=\"Times,serif\" font-size=\"14.00\">acl</text>\n",
       "</g>\n",
       "<!-- 1 -->\n",
       "<g id=\"node3\" class=\"node\"><title>1</title>\n",
       "<text text-anchor=\"middle\" x=\"43\" y=\"-449.3\" font-family=\"Times,serif\" font-size=\"14.00\">1 (Artificial)</text>\n",
       "</g>\n",
       "<!-- 2&#45;&gt;1 -->\n",
       "<g id=\"edge4\" class=\"edge\"><title>2&#45;&gt;1</title>\n",
       "<path fill=\"none\" stroke=\"black\" d=\"M113.192,-521.799C100.31,-509.356 82.7184,-492.364 68.3693,-478.504\"/>\n",
       "<polygon fill=\"black\" stroke=\"black\" points=\"70.4059,-475.605 60.7816,-471.175 65.5427,-480.64 70.4059,-475.605\"/>\n",
       "<text text-anchor=\"middle\" x=\"108.5\" y=\"-492.8\" font-family=\"Times,serif\" font-size=\"14.00\">amod</text>\n",
       "</g>\n",
       "<!-- 4 -->\n",
       "<g id=\"node5\" class=\"node\"><title>4</title>\n",
       "<text text-anchor=\"middle\" x=\"131\" y=\"-449.3\" font-family=\"Times,serif\" font-size=\"14.00\">4 (AI)</text>\n",
       "</g>\n",
       "<!-- 2&#45;&gt;4 -->\n",
       "<g id=\"edge2\" class=\"edge\"><title>2&#45;&gt;4</title>\n",
       "<path fill=\"none\" stroke=\"black\" d=\"M131,-521.799C131,-510.163 131,-494.548 131,-481.237\"/>\n",
       "<polygon fill=\"black\" stroke=\"black\" points=\"134.5,-481.175 131,-471.175 127.5,-481.175 134.5,-481.175\"/>\n",
       "<text text-anchor=\"middle\" x=\"147\" y=\"-492.8\" font-family=\"Times,serif\" font-size=\"14.00\">appos</text>\n",
       "</g>\n",
       "<!-- 8 -->\n",
       "<g id=\"node6\" class=\"node\"><title>8</title>\n",
       "<text text-anchor=\"middle\" x=\"210\" y=\"-449.3\" font-family=\"Times,serif\" font-size=\"14.00\">8 (called)</text>\n",
       "</g>\n",
       "<!-- 2&#45;&gt;8 -->\n",
       "<g id=\"edge3\" class=\"edge\"><title>2&#45;&gt;8</title>\n",
       "<path fill=\"none\" stroke=\"black\" d=\"M149.258,-521.861C155.04,-516.272 161.386,-509.968 167,-504 174.413,-496.12 182.213,-487.244 189.104,-479.182\"/>\n",
       "<polygon fill=\"black\" stroke=\"black\" points=\"191.853,-481.351 195.643,-471.457 186.51,-476.828 191.853,-481.351\"/>\n",
       "<text text-anchor=\"middle\" x=\"189\" y=\"-492.8\" font-family=\"Times,serif\" font-size=\"14.00\">acl</text>\n",
       "</g>\n",
       "<!-- 7 -->\n",
       "<g id=\"node7\" class=\"node\"><title>7</title>\n",
       "<text text-anchor=\"middle\" x=\"98\" y=\"-362.3\" font-family=\"Times,serif\" font-size=\"14.00\">7 (sometimes)</text>\n",
       "</g>\n",
       "<!-- 8&#45;&gt;7 -->\n",
       "<g id=\"edge5\" class=\"edge\"><title>8&#45;&gt;7</title>\n",
       "<path fill=\"none\" stroke=\"black\" d=\"M187.335,-434.799C170.484,-422.01 147.302,-404.417 128.776,-390.357\"/>\n",
       "<polygon fill=\"black\" stroke=\"black\" points=\"130.713,-387.433 120.631,-384.175 126.481,-393.009 130.713,-387.433\"/>\n",
       "<text text-anchor=\"middle\" x=\"183.5\" y=\"-405.8\" font-family=\"Times,serif\" font-size=\"14.00\">advmod</text>\n",
       "</g>\n",
       "<!-- 10 -->\n",
       "<g id=\"node8\" class=\"node\"><title>10</title>\n",
       "<text text-anchor=\"middle\" x=\"217\" y=\"-362.3\" font-family=\"Times,serif\" font-size=\"14.00\">10 (intelligence)</text>\n",
       "</g>\n",
       "<!-- 8&#45;&gt;10 -->\n",
       "<g id=\"edge6\" class=\"edge\"><title>8&#45;&gt;10</title>\n",
       "<path fill=\"none\" stroke=\"black\" d=\"M211.417,-434.799C212.375,-423.163 213.661,-407.548 214.757,-394.237\"/>\n",
       "<polygon fill=\"black\" stroke=\"black\" points=\"218.253,-394.429 215.586,-384.175 211.277,-393.854 218.253,-394.429\"/>\n",
       "<text text-anchor=\"middle\" x=\"226.5\" y=\"-405.8\" font-family=\"Times,serif\" font-size=\"14.00\">dobj</text>\n",
       "</g>\n",
       "<!-- 9 -->\n",
       "<g id=\"node9\" class=\"node\"><title>9</title>\n",
       "<text text-anchor=\"middle\" x=\"217\" y=\"-275.3\" font-family=\"Times,serif\" font-size=\"14.00\">9 (machine)</text>\n",
       "</g>\n",
       "<!-- 10&#45;&gt;9 -->\n",
       "<g id=\"edge7\" class=\"edge\"><title>10&#45;&gt;9</title>\n",
       "<path fill=\"none\" stroke=\"black\" d=\"M217,-347.799C217,-336.163 217,-320.548 217,-307.237\"/>\n",
       "<polygon fill=\"black\" stroke=\"black\" points=\"220.5,-307.175 217,-297.175 213.5,-307.175 220.5,-307.175\"/>\n",
       "<text text-anchor=\"middle\" x=\"246\" y=\"-318.8\" font-family=\"Times,serif\" font-size=\"14.00\">compound</text>\n",
       "</g>\n",
       "<!-- 16 -->\n",
       "<g id=\"node12\" class=\"node\"><title>16</title>\n",
       "<text text-anchor=\"middle\" x=\"326\" y=\"-449.3\" font-family=\"Times,serif\" font-size=\"14.00\">16 (machines)</text>\n",
       "</g>\n",
       "<!-- 14&#45;&gt;16 -->\n",
       "<g id=\"edge11\" class=\"edge\"><title>14&#45;&gt;16</title>\n",
       "<path fill=\"none\" stroke=\"black\" d=\"M328.393,-521.799C327.982,-510.163 327.431,-494.548 326.961,-481.237\"/>\n",
       "<polygon fill=\"black\" stroke=\"black\" points=\"330.457,-481.046 326.606,-471.175 323.461,-481.293 330.457,-481.046\"/>\n",
       "<text text-anchor=\"middle\" x=\"343\" y=\"-492.8\" font-family=\"Times,serif\" font-size=\"14.00\">nmod</text>\n",
       "</g>\n",
       "<!-- 19 -->\n",
       "<g id=\"node13\" class=\"node\"><title>19</title>\n",
       "<text text-anchor=\"middle\" x=\"435\" y=\"-449.3\" font-family=\"Times,serif\" font-size=\"14.00\">19 (contrast)</text>\n",
       "</g>\n",
       "<!-- 14&#45;&gt;19 -->\n",
       "<g id=\"edge12\" class=\"edge\"><title>14&#45;&gt;19</title>\n",
       "<path fill=\"none\" stroke=\"black\" d=\"M350.451,-521.799C366.255,-509.126 387.944,-491.734 405.398,-477.738\"/>\n",
       "<polygon fill=\"black\" stroke=\"black\" points=\"407.969,-480.162 413.581,-471.175 403.59,-474.701 407.969,-480.162\"/>\n",
       "<text text-anchor=\"middle\" x=\"404\" y=\"-492.8\" font-family=\"Times,serif\" font-size=\"14.00\">nmod</text>\n",
       "</g>\n",
       "<!-- 15 -->\n",
       "<g id=\"node14\" class=\"node\"><title>15</title>\n",
       "<text text-anchor=\"middle\" x=\"326\" y=\"-362.3\" font-family=\"Times,serif\" font-size=\"14.00\">15 (by)</text>\n",
       "</g>\n",
       "<!-- 16&#45;&gt;15 -->\n",
       "<g id=\"edge13\" class=\"edge\"><title>16&#45;&gt;15</title>\n",
       "<path fill=\"none\" stroke=\"black\" d=\"M326,-434.799C326,-423.163 326,-407.548 326,-394.237\"/>\n",
       "<polygon fill=\"black\" stroke=\"black\" points=\"329.5,-394.175 326,-384.175 322.5,-394.175 329.5,-394.175\"/>\n",
       "<text text-anchor=\"middle\" x=\"338\" y=\"-405.8\" font-family=\"Times,serif\" font-size=\"14.00\">case</text>\n",
       "</g>\n",
       "<!-- 18 -->\n",
       "<g id=\"node15\" class=\"node\"><title>18</title>\n",
       "<text text-anchor=\"middle\" x=\"417\" y=\"-362.3\" font-family=\"Times,serif\" font-size=\"14.00\">18 (in)</text>\n",
       "</g>\n",
       "<!-- 19&#45;&gt;18 -->\n",
       "<g id=\"edge14\" class=\"edge\"><title>19&#45;&gt;18</title>\n",
       "<path fill=\"none\" stroke=\"black\" d=\"M431.357,-434.799C428.893,-423.163 425.587,-407.548 422.768,-394.237\"/>\n",
       "<polygon fill=\"black\" stroke=\"black\" points=\"426.133,-393.233 420.637,-384.175 419.285,-394.684 426.133,-393.233\"/>\n",
       "<text text-anchor=\"middle\" x=\"439\" y=\"-405.8\" font-family=\"Times,serif\" font-size=\"14.00\">case</text>\n",
       "</g>\n",
       "<!-- 23 -->\n",
       "<g id=\"node16\" class=\"node\"><title>23</title>\n",
       "<text text-anchor=\"middle\" x=\"515\" y=\"-362.3\" font-family=\"Times,serif\" font-size=\"14.00\">23 (intelligence)</text>\n",
       "</g>\n",
       "<!-- 19&#45;&gt;23 -->\n",
       "<g id=\"edge15\" class=\"edge\"><title>19&#45;&gt;23</title>\n",
       "<path fill=\"none\" stroke=\"black\" d=\"M451.189,-434.799C462.9,-422.356 478.892,-405.364 491.937,-391.504\"/>\n",
       "<polygon fill=\"black\" stroke=\"black\" points=\"494.53,-393.856 498.835,-384.175 489.432,-389.059 494.53,-393.856\"/>\n",
       "<text text-anchor=\"middle\" x=\"495\" y=\"-405.8\" font-family=\"Times,serif\" font-size=\"14.00\">nmod</text>\n",
       "</g>\n",
       "<!-- 20 -->\n",
       "<g id=\"node17\" class=\"node\"><title>20</title>\n",
       "<text text-anchor=\"middle\" x=\"396\" y=\"-275.3\" font-family=\"Times,serif\" font-size=\"14.00\">20 (to)</text>\n",
       "</g>\n",
       "<!-- 23&#45;&gt;20 -->\n",
       "<g id=\"edge16\" class=\"edge\"><title>23&#45;&gt;20</title>\n",
       "<path fill=\"none\" stroke=\"black\" d=\"M488.353,-347.886C479.853,-342.298 470.46,-335.989 462,-330 450.032,-321.528 437.124,-311.87 425.924,-303.315\"/>\n",
       "<polygon fill=\"black\" stroke=\"black\" points=\"427.799,-300.342 417.736,-297.027 423.535,-305.894 427.799,-300.342\"/>\n",
       "<text text-anchor=\"middle\" x=\"474\" y=\"-318.8\" font-family=\"Times,serif\" font-size=\"14.00\">case</text>\n",
       "</g>\n",
       "<!-- 21 -->\n",
       "<g id=\"node18\" class=\"node\"><title>21</title>\n",
       "<text text-anchor=\"middle\" x=\"471\" y=\"-275.3\" font-family=\"Times,serif\" font-size=\"14.00\">21 (the)</text>\n",
       "</g>\n",
       "<!-- 23&#45;&gt;21 -->\n",
       "<g id=\"edge18\" class=\"edge\"><title>23&#45;&gt;21</title>\n",
       "<path fill=\"none\" stroke=\"black\" d=\"M506.096,-347.799C499.893,-335.817 491.508,-319.617 484.488,-306.057\"/>\n",
       "<polygon fill=\"black\" stroke=\"black\" points=\"487.596,-304.447 479.891,-297.175 481.38,-307.665 487.596,-304.447\"/>\n",
       "<text text-anchor=\"middle\" x=\"503.5\" y=\"-318.8\" font-family=\"Times,serif\" font-size=\"14.00\">det</text>\n",
       "</g>\n",
       "<!-- 22 -->\n",
       "<g id=\"node19\" class=\"node\"><title>22</title>\n",
       "<text text-anchor=\"middle\" x=\"559\" y=\"-275.3\" font-family=\"Times,serif\" font-size=\"14.00\">22 (natural)</text>\n",
       "</g>\n",
       "<!-- 23&#45;&gt;22 -->\n",
       "<g id=\"edge19\" class=\"edge\"><title>23&#45;&gt;22</title>\n",
       "<path fill=\"none\" stroke=\"black\" d=\"M523.904,-347.799C530.107,-335.817 538.492,-319.617 545.512,-306.057\"/>\n",
       "<polygon fill=\"black\" stroke=\"black\" points=\"548.62,-307.665 550.109,-297.175 542.404,-304.447 548.62,-307.665\"/>\n",
       "<text text-anchor=\"middle\" x=\"554.5\" y=\"-318.8\" font-family=\"Times,serif\" font-size=\"14.00\">amod</text>\n",
       "</g>\n",
       "<!-- 24 -->\n",
       "<g id=\"node20\" class=\"node\"><title>24</title>\n",
       "<text text-anchor=\"middle\" x=\"665\" y=\"-275.3\" font-family=\"Times,serif\" font-size=\"14.00\">24 (displayed)</text>\n",
       "</g>\n",
       "<!-- 23&#45;&gt;24 -->\n",
       "<g id=\"edge17\" class=\"edge\"><title>23&#45;&gt;24</title>\n",
       "<path fill=\"none\" stroke=\"black\" d=\"M545.355,-347.799C568.609,-334.622 600.866,-316.343 626.028,-302.084\"/>\n",
       "<polygon fill=\"black\" stroke=\"black\" points=\"627.972,-305.005 634.947,-297.03 624.521,-298.915 627.972,-305.005\"/>\n",
       "<text text-anchor=\"middle\" x=\"606\" y=\"-318.8\" font-family=\"Times,serif\" font-size=\"14.00\">acl</text>\n",
       "</g>\n",
       "<!-- 26 -->\n",
       "<g id=\"node21\" class=\"node\"><title>26</title>\n",
       "<text text-anchor=\"middle\" x=\"665\" y=\"-188.3\" font-family=\"Times,serif\" font-size=\"14.00\">26 (humans)</text>\n",
       "</g>\n",
       "<!-- 24&#45;&gt;26 -->\n",
       "<g id=\"edge20\" class=\"edge\"><title>24&#45;&gt;26</title>\n",
       "<path fill=\"none\" stroke=\"black\" d=\"M665,-260.799C665,-249.163 665,-233.548 665,-220.237\"/>\n",
       "<polygon fill=\"black\" stroke=\"black\" points=\"668.5,-220.175 665,-210.175 661.5,-220.175 668.5,-220.175\"/>\n",
       "<text text-anchor=\"middle\" x=\"681\" y=\"-231.8\" font-family=\"Times,serif\" font-size=\"14.00\">nmod</text>\n",
       "</g>\n",
       "<!-- 25 -->\n",
       "<g id=\"node22\" class=\"node\"><title>25</title>\n",
       "<text text-anchor=\"middle\" x=\"588\" y=\"-101.3\" font-family=\"Times,serif\" font-size=\"14.00\">25 (by)</text>\n",
       "</g>\n",
       "<!-- 26&#45;&gt;25 -->\n",
       "<g id=\"edge21\" class=\"edge\"><title>26&#45;&gt;25</title>\n",
       "<path fill=\"none\" stroke=\"black\" d=\"M649.418,-173.799C638.25,-161.471 623.038,-144.679 610.548,-130.89\"/>\n",
       "<polygon fill=\"black\" stroke=\"black\" points=\"612.867,-128.237 603.559,-123.175 607.679,-132.936 612.867,-128.237\"/>\n",
       "<text text-anchor=\"middle\" x=\"643\" y=\"-144.8\" font-family=\"Times,serif\" font-size=\"14.00\">case</text>\n",
       "</g>\n",
       "<!-- 27 -->\n",
       "<g id=\"node23\" class=\"node\"><title>27</title>\n",
       "<text text-anchor=\"middle\" x=\"665\" y=\"-101.3\" font-family=\"Times,serif\" font-size=\"14.00\">27 (and)</text>\n",
       "</g>\n",
       "<!-- 26&#45;&gt;27 -->\n",
       "<g id=\"edge22\" class=\"edge\"><title>26&#45;&gt;27</title>\n",
       "<path fill=\"none\" stroke=\"black\" d=\"M665,-173.799C665,-162.163 665,-146.548 665,-133.237\"/>\n",
       "<polygon fill=\"black\" stroke=\"black\" points=\"668.5,-133.175 665,-123.175 661.5,-133.175 668.5,-133.175\"/>\n",
       "<text text-anchor=\"middle\" x=\"671.5\" y=\"-144.8\" font-family=\"Times,serif\" font-size=\"14.00\">cc</text>\n",
       "</g>\n",
       "<!-- 29 -->\n",
       "<g id=\"node24\" class=\"node\"><title>29</title>\n",
       "<text text-anchor=\"middle\" x=\"757\" y=\"-101.3\" font-family=\"Times,serif\" font-size=\"14.00\">29 (animals)</text>\n",
       "</g>\n",
       "<!-- 26&#45;&gt;29 -->\n",
       "<g id=\"edge23\" class=\"edge\"><title>26&#45;&gt;29</title>\n",
       "<path fill=\"none\" stroke=\"black\" d=\"M683.618,-173.799C697.21,-161.241 715.817,-144.049 730.893,-130.12\"/>\n",
       "<polygon fill=\"black\" stroke=\"black\" points=\"733.44,-132.532 738.41,-123.175 728.69,-127.391 733.44,-132.532\"/>\n",
       "<text text-anchor=\"middle\" x=\"728\" y=\"-144.8\" font-family=\"Times,serif\" font-size=\"14.00\">conj</text>\n",
       "</g>\n",
       "<!-- 28 -->\n",
       "<g id=\"node25\" class=\"node\"><title>28</title>\n",
       "<text text-anchor=\"middle\" x=\"757\" y=\"-14.3\" font-family=\"Times,serif\" font-size=\"14.00\">28 (other)</text>\n",
       "</g>\n",
       "<!-- 29&#45;&gt;28 -->\n",
       "<g id=\"edge24\" class=\"edge\"><title>29&#45;&gt;28</title>\n",
       "<path fill=\"none\" stroke=\"black\" d=\"M757,-86.799C757,-75.1626 757,-59.5479 757,-46.2368\"/>\n",
       "<polygon fill=\"black\" stroke=\"black\" points=\"760.5,-46.1754 757,-36.1754 753.5,-46.1755 760.5,-46.1754\"/>\n",
       "<text text-anchor=\"middle\" x=\"772.5\" y=\"-57.8\" font-family=\"Times,serif\" font-size=\"14.00\">amod</text>\n",
       "</g>\n",
       "</g>\n",
       "</svg>\n"
      ],
      "text/plain": [
       "<DependencyGraph with 25 nodes>"
      ]
     },
     "execution_count": 22,
     "metadata": {},
     "output_type": "execute_result"
    }
   ],
   "source": [
    "from nltk.parse.stanford import StanfordDependencyParser\n",
    "path_to_jar = '/home/simon/nltk_data/stanford/stanford-parser-full-2018-02-27/stanford-parser.jar'\n",
    "path_to_models_jar = '/home/simon/nltk_data/stanford/stanford-english-corenlp-2018-02-27-models.jar'\n",
    "\n",
    "spd = StanfordDependencyParser(path_to_jar=path_to_jar, path_to_models_jar=path_to_models_jar)\n",
    "\n",
    "result = list(spd.raw_parse(sentence))\n",
    "result[0]"
   ]
  },
  {
   "cell_type": "code",
   "execution_count": 23,
   "metadata": {},
   "outputs": [
    {
     "name": "stderr",
     "output_type": "stream",
     "text": [
      "/home/simon/.virtualenvs/r-tensorflow/lib/python2.7/site-packages/ipykernel_launcher.py:5: DeprecationWarning: The StanfordDependencyParser will be deprecated\n",
      "Please use \u001b[91mnltk.parse.corenlp.StanforCoreNLPDependencyParser\u001b[0m instead.\n",
      "  \"\"\"\n"
     ]
    },
    {
     "data": {
      "image/svg+xml": [
       "<?xml version=\"1.0\" encoding=\"UTF-8\" standalone=\"no\"?>\n",
       "<!DOCTYPE svg PUBLIC \"-//W3C//DTD SVG 1.1//EN\"\n",
       " \"http://www.w3.org/Graphics/SVG/1.1/DTD/svg11.dtd\">\n",
       "<!-- Generated by graphviz version 2.38.0 (20140413.2041)\n",
       " -->\n",
       "<!-- Title: G Pages: 1 -->\n",
       "<svg width=\"723pt\" height=\"392pt\"\n",
       " viewBox=\"0.00 0.00 722.50 392.00\" xmlns=\"http://www.w3.org/2000/svg\" xmlns:xlink=\"http://www.w3.org/1999/xlink\">\n",
       "<g id=\"graph0\" class=\"graph\" transform=\"scale(1 1) rotate(0) translate(4 388)\">\n",
       "<title>G</title>\n",
       "<polygon fill=\"white\" stroke=\"none\" points=\"-4,4 -4,-388 718.5,-388 718.5,4 -4,4\"/>\n",
       "<!-- 0 -->\n",
       "<g id=\"node1\" class=\"node\"><title>0</title>\n",
       "<text text-anchor=\"middle\" x=\"321.5\" y=\"-362.3\" font-family=\"Times,serif\" font-size=\"14.00\">0 (None)</text>\n",
       "</g>\n",
       "<!-- 12 -->\n",
       "<g id=\"node2\" class=\"node\"><title>12</title>\n",
       "<text text-anchor=\"middle\" x=\"321.5\" y=\"-275.3\" font-family=\"Times,serif\" font-size=\"14.00\">12 (club)</text>\n",
       "</g>\n",
       "<!-- 0&#45;&gt;12 -->\n",
       "<g id=\"edge1\" class=\"edge\"><title>0&#45;&gt;12</title>\n",
       "<path fill=\"none\" stroke=\"black\" d=\"M321.5,-347.799C321.5,-336.163 321.5,-320.548 321.5,-307.237\"/>\n",
       "<polygon fill=\"black\" stroke=\"black\" points=\"325,-307.175 321.5,-297.175 318,-307.175 325,-307.175\"/>\n",
       "<text text-anchor=\"middle\" x=\"332.5\" y=\"-318.8\" font-family=\"Times,serif\" font-size=\"14.00\">root</text>\n",
       "</g>\n",
       "<!-- 2 -->\n",
       "<g id=\"node4\" class=\"node\"><title>2</title>\n",
       "<text text-anchor=\"middle\" x=\"120.5\" y=\"-188.3\" font-family=\"Times,serif\" font-size=\"14.00\">2 (Munich)</text>\n",
       "</g>\n",
       "<!-- 12&#45;&gt;2 -->\n",
       "<g id=\"edge7\" class=\"edge\"><title>12&#45;&gt;2</title>\n",
       "<path fill=\"none\" stroke=\"black\" d=\"M288.234,-267.498C268.593,-261.016 243.372,-252.2 221.5,-243 201.381,-234.537 179.618,-223.955 161.463,-214.708\"/>\n",
       "<polygon fill=\"black\" stroke=\"black\" points=\"162.82,-211.471 152.326,-210.013 159.621,-217.697 162.82,-211.471\"/>\n",
       "<text text-anchor=\"middle\" x=\"236.5\" y=\"-231.8\" font-family=\"Times,serif\" font-size=\"14.00\">nsubj</text>\n",
       "</g>\n",
       "<!-- 8 -->\n",
       "<g id=\"node8\" class=\"node\"><title>8</title>\n",
       "<text text-anchor=\"middle\" x=\"205.5\" y=\"-188.3\" font-family=\"Times,serif\" font-size=\"14.00\">8 (is)</text>\n",
       "</g>\n",
       "<!-- 12&#45;&gt;8 -->\n",
       "<g id=\"edge6\" class=\"edge\"><title>12&#45;&gt;8</title>\n",
       "<path fill=\"none\" stroke=\"black\" d=\"M298.049,-260.929C290.235,-255.233 281.488,-248.849 273.5,-243 261.513,-234.223 248.354,-224.555 236.832,-216.079\"/>\n",
       "<polygon fill=\"black\" stroke=\"black\" points=\"238.901,-213.256 228.772,-210.147 234.752,-218.893 238.901,-213.256\"/>\n",
       "<text text-anchor=\"middle\" x=\"283.5\" y=\"-231.8\" font-family=\"Times,serif\" font-size=\"14.00\">cop</text>\n",
       "</g>\n",
       "<!-- 9 -->\n",
       "<g id=\"node9\" class=\"node\"><title>9</title>\n",
       "<text text-anchor=\"middle\" x=\"277.5\" y=\"-188.3\" font-family=\"Times,serif\" font-size=\"14.00\">9 (a)</text>\n",
       "</g>\n",
       "<!-- 12&#45;&gt;9 -->\n",
       "<g id=\"edge8\" class=\"edge\"><title>12&#45;&gt;9</title>\n",
       "<path fill=\"none\" stroke=\"black\" d=\"M312.596,-260.799C306.393,-248.817 298.008,-232.617 290.988,-219.057\"/>\n",
       "<polygon fill=\"black\" stroke=\"black\" points=\"294.096,-217.447 286.391,-210.175 287.88,-220.665 294.096,-217.447\"/>\n",
       "<text text-anchor=\"middle\" x=\"311\" y=\"-231.8\" font-family=\"Times,serif\" font-size=\"14.00\">det</text>\n",
       "</g>\n",
       "<!-- 10 -->\n",
       "<g id=\"node10\" class=\"node\"><title>10</title>\n",
       "<text text-anchor=\"middle\" x=\"366.5\" y=\"-188.3\" font-family=\"Times,serif\" font-size=\"14.00\">10 (German)</text>\n",
       "</g>\n",
       "<!-- 12&#45;&gt;10 -->\n",
       "<g id=\"edge10\" class=\"edge\"><title>12&#45;&gt;10</title>\n",
       "<path fill=\"none\" stroke=\"black\" d=\"M330.606,-260.799C336.95,-248.817 345.526,-232.617 352.705,-219.057\"/>\n",
       "<polygon fill=\"black\" stroke=\"black\" points=\"355.821,-220.651 357.407,-210.175 349.635,-217.376 355.821,-220.651\"/>\n",
       "<text text-anchor=\"middle\" x=\"363\" y=\"-231.8\" font-family=\"Times,serif\" font-size=\"14.00\">amod</text>\n",
       "</g>\n",
       "<!-- 11 -->\n",
       "<g id=\"node11\" class=\"node\"><title>11</title>\n",
       "<text text-anchor=\"middle\" x=\"465.5\" y=\"-188.3\" font-family=\"Times,serif\" font-size=\"14.00\">11 (sports)</text>\n",
       "</g>\n",
       "<!-- 12&#45;&gt;11 -->\n",
       "<g id=\"edge11\" class=\"edge\"><title>12&#45;&gt;11</title>\n",
       "<path fill=\"none\" stroke=\"black\" d=\"M351.669,-260.859C361.523,-255.215 372.501,-248.879 382.5,-243 397.751,-234.032 414.48,-223.994 428.898,-215.278\"/>\n",
       "<polygon fill=\"black\" stroke=\"black\" points=\"430.802,-218.217 437.543,-210.044 427.176,-212.229 430.802,-218.217\"/>\n",
       "<text text-anchor=\"middle\" x=\"437.5\" y=\"-231.8\" font-family=\"Times,serif\" font-size=\"14.00\">compound</text>\n",
       "</g>\n",
       "<!-- 15 -->\n",
       "<g id=\"node12\" class=\"node\"><title>15</title>\n",
       "<text text-anchor=\"middle\" x=\"564.5\" y=\"-188.3\" font-family=\"Times,serif\" font-size=\"14.00\">15 (Munich)</text>\n",
       "</g>\n",
       "<!-- 12&#45;&gt;15 -->\n",
       "<g id=\"edge9\" class=\"edge\"><title>12&#45;&gt;15</title>\n",
       "<path fill=\"none\" stroke=\"black\" d=\"M354.776,-272.726C385.46,-267.273 431.95,-257.501 470.5,-243 490.207,-235.587 510.987,-224.872 527.983,-215.261\"/>\n",
       "<polygon fill=\"black\" stroke=\"black\" points=\"530.088,-218.088 537.005,-210.063 526.593,-212.022 530.088,-218.088\"/>\n",
       "<text text-anchor=\"middle\" x=\"519.5\" y=\"-231.8\" font-family=\"Times,serif\" font-size=\"14.00\">nmod</text>\n",
       "</g>\n",
       "<!-- 1 -->\n",
       "<g id=\"node3\" class=\"node\"><title>1</title>\n",
       "<text text-anchor=\"middle\" x=\"37.5\" y=\"-101.3\" font-family=\"Times,serif\" font-size=\"14.00\">1 (Bayern)</text>\n",
       "</g>\n",
       "<!-- 2&#45;&gt;1 -->\n",
       "<g id=\"edge4\" class=\"edge\"><title>2&#45;&gt;1</title>\n",
       "<path fill=\"none\" stroke=\"black\" d=\"M80.9114,-173.83C72.7469,-168.953 64.7453,-163.017 58.5,-156 52.626,-149.4 48.2366,-140.92 45.0327,-132.825\"/>\n",
       "<polygon fill=\"black\" stroke=\"black\" points=\"48.303,-131.574 41.6925,-123.294 41.697,-133.889 48.303,-131.574\"/>\n",
       "<text text-anchor=\"middle\" x=\"87.5\" y=\"-144.8\" font-family=\"Times,serif\" font-size=\"14.00\">compound</text>\n",
       "</g>\n",
       "<!-- 4 -->\n",
       "<g id=\"node5\" class=\"node\"><title>4</title>\n",
       "<text text-anchor=\"middle\" x=\"120.5\" y=\"-101.3\" font-family=\"Times,serif\" font-size=\"14.00\">4 (or)</text>\n",
       "</g>\n",
       "<!-- 2&#45;&gt;4 -->\n",
       "<g id=\"edge2\" class=\"edge\"><title>2&#45;&gt;4</title>\n",
       "<path fill=\"none\" stroke=\"black\" d=\"M120.5,-173.799C120.5,-162.163 120.5,-146.548 120.5,-133.237\"/>\n",
       "<polygon fill=\"black\" stroke=\"black\" points=\"124,-133.175 120.5,-123.175 117,-133.175 124,-133.175\"/>\n",
       "<text text-anchor=\"middle\" x=\"127\" y=\"-144.8\" font-family=\"Times,serif\" font-size=\"14.00\">cc</text>\n",
       "</g>\n",
       "<!-- 6 -->\n",
       "<g id=\"node6\" class=\"node\"><title>6</title>\n",
       "<text text-anchor=\"middle\" x=\"203.5\" y=\"-101.3\" font-family=\"Times,serif\" font-size=\"14.00\">6 (Bayern)</text>\n",
       "</g>\n",
       "<!-- 2&#45;&gt;6 -->\n",
       "<g id=\"edge3\" class=\"edge\"><title>2&#45;&gt;6</title>\n",
       "<path fill=\"none\" stroke=\"black\" d=\"M137.296,-173.799C149.446,-161.356 166.038,-144.364 179.572,-130.504\"/>\n",
       "<polygon fill=\"black\" stroke=\"black\" points=\"182.246,-132.775 186.729,-123.175 177.238,-127.885 182.246,-132.775\"/>\n",
       "<text text-anchor=\"middle\" x=\"179.5\" y=\"-144.8\" font-family=\"Times,serif\" font-size=\"14.00\">conj</text>\n",
       "</g>\n",
       "<!-- 5 -->\n",
       "<g id=\"node7\" class=\"node\"><title>5</title>\n",
       "<text text-anchor=\"middle\" x=\"203.5\" y=\"-14.3\" font-family=\"Times,serif\" font-size=\"14.00\">5 (FC)</text>\n",
       "</g>\n",
       "<!-- 6&#45;&gt;5 -->\n",
       "<g id=\"edge5\" class=\"edge\"><title>6&#45;&gt;5</title>\n",
       "<path fill=\"none\" stroke=\"black\" d=\"M203.5,-86.799C203.5,-75.1626 203.5,-59.5479 203.5,-46.2368\"/>\n",
       "<polygon fill=\"black\" stroke=\"black\" points=\"207,-46.1754 203.5,-36.1754 200,-46.1755 207,-46.1754\"/>\n",
       "<text text-anchor=\"middle\" x=\"232.5\" y=\"-57.8\" font-family=\"Times,serif\" font-size=\"14.00\">compound</text>\n",
       "</g>\n",
       "<!-- 13 -->\n",
       "<g id=\"node13\" class=\"node\"><title>13</title>\n",
       "<text text-anchor=\"middle\" x=\"482.5\" y=\"-101.3\" font-family=\"Times,serif\" font-size=\"14.00\">13 (based)</text>\n",
       "</g>\n",
       "<!-- 15&#45;&gt;13 -->\n",
       "<g id=\"edge12\" class=\"edge\"><title>15&#45;&gt;13</title>\n",
       "<path fill=\"none\" stroke=\"black\" d=\"M547.906,-173.799C535.902,-161.356 519.51,-144.364 506.14,-130.504\"/>\n",
       "<polygon fill=\"black\" stroke=\"black\" points=\"508.531,-127.942 499.069,-123.175 503.493,-132.802 508.531,-127.942\"/>\n",
       "<text text-anchor=\"middle\" x=\"540.5\" y=\"-144.8\" font-family=\"Times,serif\" font-size=\"14.00\">case</text>\n",
       "</g>\n",
       "<!-- 14 -->\n",
       "<g id=\"node14\" class=\"node\"><title>14</title>\n",
       "<text text-anchor=\"middle\" x=\"564.5\" y=\"-101.3\" font-family=\"Times,serif\" font-size=\"14.00\">14 (in)</text>\n",
       "</g>\n",
       "<!-- 15&#45;&gt;14 -->\n",
       "<g id=\"edge13\" class=\"edge\"><title>15&#45;&gt;14</title>\n",
       "<path fill=\"none\" stroke=\"black\" d=\"M564.5,-173.799C564.5,-162.163 564.5,-146.548 564.5,-133.237\"/>\n",
       "<polygon fill=\"black\" stroke=\"black\" points=\"568,-133.175 564.5,-123.175 561,-133.175 568,-133.175\"/>\n",
       "<text text-anchor=\"middle\" x=\"576.5\" y=\"-144.8\" font-family=\"Times,serif\" font-size=\"14.00\">case</text>\n",
       "</g>\n",
       "<!-- 19 -->\n",
       "<g id=\"node15\" class=\"node\"><title>19</title>\n",
       "<text text-anchor=\"middle\" x=\"656.5\" y=\"-101.3\" font-family=\"Times,serif\" font-size=\"14.00\">19 (Germany)</text>\n",
       "</g>\n",
       "<!-- 15&#45;&gt;19 -->\n",
       "<g id=\"edge14\" class=\"edge\"><title>15&#45;&gt;19</title>\n",
       "<path fill=\"none\" stroke=\"black\" d=\"M583.118,-173.799C596.71,-161.241 615.317,-144.049 630.393,-130.12\"/>\n",
       "<polygon fill=\"black\" stroke=\"black\" points=\"632.94,-132.532 637.91,-123.175 628.19,-127.391 632.94,-132.532\"/>\n",
       "<text text-anchor=\"middle\" x=\"632.5\" y=\"-144.8\" font-family=\"Times,serif\" font-size=\"14.00\">appos</text>\n",
       "</g>\n",
       "<!-- 17 -->\n",
       "<g id=\"node16\" class=\"node\"><title>17</title>\n",
       "<text text-anchor=\"middle\" x=\"656.5\" y=\"-14.3\" font-family=\"Times,serif\" font-size=\"14.00\">17 (Bavaria)</text>\n",
       "</g>\n",
       "<!-- 19&#45;&gt;17 -->\n",
       "<g id=\"edge15\" class=\"edge\"><title>19&#45;&gt;17</title>\n",
       "<path fill=\"none\" stroke=\"black\" d=\"M656.5,-86.799C656.5,-75.1626 656.5,-59.5479 656.5,-46.2368\"/>\n",
       "<polygon fill=\"black\" stroke=\"black\" points=\"660,-46.1754 656.5,-36.1754 653,-46.1755 660,-46.1754\"/>\n",
       "<text text-anchor=\"middle\" x=\"685.5\" y=\"-57.8\" font-family=\"Times,serif\" font-size=\"14.00\">compound</text>\n",
       "</g>\n",
       "</g>\n",
       "</svg>\n"
      ],
      "text/plain": [
       "<DependencyGraph with 16 nodes>"
      ]
     },
     "execution_count": 23,
     "metadata": {},
     "output_type": "execute_result"
    }
   ],
   "source": [
    "from nltk.parse.stanford import StanfordDependencyParser\n",
    "path_to_jar = '/home/simon/nltk_data/stanford/stanford-parser-full-2018-02-27/stanford-parser.jar'\n",
    "path_to_models_jar = '/home/simon/nltk_data/stanford/stanford-english-corenlp-2018-02-27-models.jar'\n",
    "\n",
    "spd = StanfordDependencyParser(path_to_jar=path_to_jar, path_to_models_jar=path_to_models_jar)\n",
    "\n",
    "result = list(spd.raw_parse(sentence2))\n",
    "result[0]"
   ]
  },
  {
   "cell_type": "code",
   "execution_count": 27,
   "metadata": {},
   "outputs": [
    {
     "ename": "TypeError",
     "evalue": "'DependencyGraph' object does not support indexing",
     "traceback": [
      "\u001b[0;31m\u001b[0m",
      "\u001b[0;31mTypeError\u001b[0mTraceback (most recent call last)",
      "\u001b[0;32m<ipython-input-27-460da444203f>\u001b[0m in \u001b[0;36m<module>\u001b[0;34m()\u001b[0m\n\u001b[0;32m----> 1\u001b[0;31m \u001b[0mresult\u001b[0m\u001b[0;34m[\u001b[0m\u001b[0;36m0\u001b[0m\u001b[0;34m]\u001b[0m\u001b[0;34m[\u001b[0m\u001b[0;36m0\u001b[0m\u001b[0;34m]\u001b[0m\u001b[0;34m\u001b[0m\u001b[0m\n\u001b[0m",
      "\u001b[0;31mTypeError\u001b[0m: 'DependencyGraph' object does not support indexing"
     ],
     "output_type": "error"
    }
   ],
   "source": []
  },
  {
   "cell_type": "code",
   "execution_count": 28,
   "metadata": {},
   "outputs": [],
   "source": [
    "dep_tree = [parse.tree() for parse in result][0]"
   ]
  },
  {
   "cell_type": "code",
   "execution_count": 29,
   "metadata": {},
   "outputs": [],
   "source": [
    "# dep_tree.draw()"
   ]
  },
  {
   "cell_type": "code",
   "execution_count": 30,
   "metadata": {},
   "outputs": [
    {
     "data": {
      "image/png": "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",