{
 "cells": [
  {
   "cell_type": "markdown",
   "metadata": {},
   "source": [
    "# Named Entity Recognition"
   ]
  },
  {
   "cell_type": "code",
   "execution_count": 1,
   "metadata": {},
   "outputs": [],
   "source": [
    "import nltk\n",
    "import pandas as pd\n",
    "import re"
   ]
  },
  {
   "cell_type": "code",
   "execution_count": 2,
   "metadata": {},
   "outputs": [],
   "source": [
    "text = \"\"\"\n",
    "Bayern Munich, or FC Bayern, is a German sports club based in Munich, \n",
    "Bavaria, Germany. It is best known for its professional football team, \n",
    "which plays in the Bundesliga, the top tier of the German football \n",
    "league system, and is the most successful club in German football \n",
    "history, having won a record 26 national titles and 18 national cups. \n",
    "FC Bayern was founded in 1900 by eleven football players led by Franz John. \n",
    "Although Bayern won its first national championship in 1932, the club \n",
    "was not selected for the Bundesliga at its inception in 1963. The club \n",
    "had its period of greatest success in the middle of the 1970s when, \n",
    "under the captaincy of Franz Beckenbauer, it won the European Cup three \n",
    "times in a row (1974-76). Overall, Bayern has reached ten UEFA Champions \n",
    "League finals, most recently winning their fifth title in 2013 as part \n",
    "of a continental treble. \n",
    "\"\"\""
   ]
  },
  {
   "cell_type": "code",
   "execution_count": 3,
   "metadata": {},
   "outputs": [],
   "source": [
    "# text = \"\"\"Thought-capable artificial beings appeared as storytelling devices in antiquity, and have been common in fiction, as in Mary Shelleys Frankenstein or Karel Capeks R.U.R. (Rossums Universal Robots). These characters and their fates raised many of the same issues now discussed in the ethics of artificial intelligence. The study of mechanical or formal reasoning began with philosophers and mathematicians in antiquity. The study of mathematical logic led directly to Alan Turings theory of computation, which suggested that a machine, by shuffling symbols as simple as 0 and 1, could simulate any conceivable act of mathematical deduction. This insight, that digital computers can simulate any process of formal reasoning, is known as the Church-Turing thesis. Along with concurrent discoveries in neurobiology, information theory and cybernetics, this led researchers to consider the possibility of building an electronic brain. Turing proposed that if a human could not distinguish between responses from a machine and a human, the machine could be considered intelligent. The first work that is now generally recognized as AI was McCullouch and Pitts 1943 formal design for Turing-complete artificial neurons. The field of AI research was born at a workshop at Dartmouth College in 1956. Attendees Allen Newell (CMU), Herbert Simon (CMU), John McCarthy (MIT), Marvin Minsky (MIT) and Arthur Samuel (IBM) became the founders and leaders of AI research. They and their students produced programs that the press described as astonishing: computers were learning checkers strategies (c. 1954) (and by 1959 were reportedly playing better than the average human),[32] solving word problems in algebra, proving logical theorems (Logic Theorist, first run c. 1956) and speaking English. By the middle of the 1960s, research in the U.S. was heavily funded by the Department of Defense and laboratories had been established around the world. AIs founders were optimistic about the future: Herbert Simon predicted, machines will be capable, within twenty years, of doing any work a man can do. Marvin Minsky agreed, writing, within a generation ... the problem of creating artificial intelligence will substantially be solved.  They failed to recognize the difficulty of some of the remaining tasks. Progress slowed and in 1974, in response to the criticism of Sir James Lighthill[36] and ongoing pressure from the US Congress to fund more productive projects, both the U.S. and British governments cut off exploratory research in AI. The next few years would later be called an AI winter, a period when obtaining funding for AI projects was difficult.\"\"\""
   ]
  },
  {
   "cell_type": "code",
   "execution_count": 4,
   "metadata": {},
   "outputs": [],
   "source": [
    "def parse_document(document):\n",
    "    document = re.sub('\\n', ' ', document)\n",
    "    if isinstance(document, str):\n",
    "        document = document\n",
    "    elif isinstance(document, unicode):\n",
    "        return unicodedata.normalize('NFKD', document).encode('ascii', 'ignore')\n",
    "    else:\n",
    "        raise ValueError('Document is not string or unicode!')\n",
    "    document = document.strip()\n",
    "    sentences = nltk.sent_tokenize(document)\n",
    "    sentences = [sentence.strip() for sentence in sentences]\n",
    "    return sentences"
   ]
  },
  {
   "cell_type": "code",
   "execution_count": 5,
   "metadata": {},
   "outputs": [],
   "source": [
    "sentences = parse_document(text)\n",
    "tokenized_sentences = [nltk.word_tokenize(sentence) for sentence in sentences]"
   ]
  },
  {
   "cell_type": "code",
   "execution_count": 6,
   "metadata": {},
   "outputs": [],
   "source": [
    "tagged_sentences = [nltk.pos_tag(sentence) for sentence in tokenized_sentences]\n",
    "ne_chunked_sents = [nltk.ne_chunk(tagged) for tagged in tagged_sentences]"
   ]
  },
  {
   "cell_type": "code",
   "execution_count": 7,
   "metadata": {},
   "outputs": [
    {
     "name": "stdout",
     "output_type": "stream",
     "text": [
      "          Entity Name   Entity Type\n",
      "0             Bavaria           GPE\n",
      "1              Bayern        PERSON\n",
      "2            European  ORGANIZATION\n",
      "3          Franz John        PERSON\n",
      "4             Overall           GPE\n",
      "5              Bayern           GPE\n",
      "6          Bundesliga  ORGANIZATION\n",
      "7                UEFA  ORGANIZATION\n",
      "8              Munich  ORGANIZATION\n",
      "9             Germany           GPE\n",
      "10  Franz Beckenbauer        PERSON\n",
      "11             Munich           GPE\n",
      "12          FC Bayern  ORGANIZATION\n",
      "13             German           GPE\n"
     ]
    }
   ],
   "source": [
    "named_entities = []\n",
    "for ne_tagged_sentence in ne_chunked_sents:\n",
    "    for tagged_tree in ne_tagged_sentence:\n",
    "        if hasattr(tagged_tree, \"label\"):\n",
    "            entity_name = \" \".join(c[0] for c in tagged_tree.leaves())\n",
    "            entity_type = tagged_tree.label()\n",
    "            named_entities.append((entity_name, entity_type))\n",
    "            \n",
    "named_entities = list(set(named_entities))\n",
    "entity_frame = pd.DataFrame(named_entities,\n",
    "                           columns=[\"Entity Name\", \"Entity Type\"])\n",
    "print(entity_frame)"
   ]
  },
  {
   "cell_type": "code",
   "execution_count": 8,
   "metadata": {},
   "outputs": [],
   "source": [
    "# Stanford NER has to be downloaded\n",
    "from nltk.tag import StanfordNERTagger\n",
    "sn =StanfordNERTagger(\"/home/simon/nltk_data/stanford/stanford-ner-2018-02-27/classifiers/english.all.3class.distsim.crf.ser.gz\",\n",
    "                     path_to_jar=\"/home/simon/nltk_data/stanford/stanford-ner-2018-02-27/stanford-ner.jar\")"
   ]
  },
  {
   "cell_type": "code",
   "execution_count": 9,
   "metadata": {},
   "outputs": [],
   "source": [
    "ne_annotated_sentences = [sn.tag(sent) for sent in tokenized_sentences]"
   ]
  },
  {
   "cell_type": "code",
   "execution_count": 10,
   "metadata": {},
   "outputs": [
    {
     "name": "stdout",
     "output_type": "stream",
     "text": [
      "         Entity Name   Entity Type\n",
      "0         Franz John        PERSON\n",
      "1             Bayern  ORGANIZATION\n",
      "2      Bayern Munich  ORGANIZATION\n",
      "3            Germany      LOCATION\n",
      "4  Franz Beckenbauer        PERSON\n",
      "5          FC Bayern  ORGANIZATION\n",
      "6             Munich      LOCATION\n",
      "7            Bavaria      LOCATION\n"
     ]
    }
   ],
   "source": [
    "named_entities = []\n",
    "for sentence in ne_annotated_sentences:\n",
    "    temp_entity_name = \"\"\n",
    "    temp_named_entity = None\n",
    "    for term, tag in sentence:\n",
    "        if tag !=\"O\"